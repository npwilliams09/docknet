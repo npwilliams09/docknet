{
 "cells": [
  {
   "cell_type": "code",
   "execution_count": 7,
   "metadata": {
    "collapsed": true
   },
   "outputs": [],
   "source": [
    "import tensorflow as tf\n",
    "import tensorflow_addons as tfa\n",
    "import spektral\n",
    "import pandas as pd\n",
    "import numpy as np"
   ]
  },
  {
   "cell_type": "code",
   "execution_count": 8,
   "outputs": [],
   "source": [
    "from components.data_loader import *\n",
    "from components.graphBlocks import *\n",
    "from components.twod_conv import *\n",
    "from components.combiner import *\n",
    "from components.Docknet import *"
   ],
   "metadata": {
    "collapsed": false,
    "pycharm": {
     "name": "#%%\n"
    }
   }
  },
  {
   "cell_type": "code",
   "execution_count": 9,
   "outputs": [],
   "source": [
    "print(tf.__version__)\n",
    "model_path = \"./model-best.h5\""
   ],
   "metadata": {
    "collapsed": false,
    "pycharm": {
     "name": "#%%\n"
    }
   }
  },
  {
   "cell_type": "code",
   "execution_count": 10,
   "outputs": [],
   "source": [
    "config = {\n",
    "        \"filters\": 128,\n",
    "        \"graph_blocks\": 2,\n",
    "        \"graph_style\": 'gcn',\n",
    "        \"drop_rate\": 0.2,\n",
    "        \"combine_style\": 'matmul',\n",
    "        \"squeeze_excite\": False,\n",
    "        \"wave_blocks\": 4,\n",
    "        \"epochs\": 14,\n",
    "        \"lr\": 0.00006\n",
    "    }\n",
    "features = 44\n",
    "model = docknet(config, features)\n",
    "model.load_weights(model_path)\n",
    "model.compile(metrics=[tf.keras.metrics.AUC(dtype='float32')], run_eagerly=True)"
   ],
   "metadata": {
    "collapsed": false,
    "pycharm": {
     "name": "#%%\n"
    }
   }
  },
  {
   "cell_type": "code",
   "execution_count": null,
   "outputs": [],
   "source": [
    "\n"
   ],
   "metadata": {
    "collapsed": false,
    "pycharm": {
     "name": "#%%\n"
    }
   }
  }
 ],
 "metadata": {
  "kernelspec": {
   "name": "python3",
   "language": "python",
   "display_name": "Python 3"
  },
  "language_info": {
   "codemirror_mode": {
    "name": "ipython",
    "version": 2
   },
   "file_extension": ".py",
   "mimetype": "text/x-python",
   "name": "python",
   "nbconvert_exporter": "python",
   "pygments_lexer": "ipython2",
   "version": "2.7.6"
  }
 },
 "nbformat": 4,
 "nbformat_minor": 0
}